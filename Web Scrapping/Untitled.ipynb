{
 "cells": [
  {
   "cell_type": "code",
   "execution_count": 2,
   "id": "1a0f15fc",
   "metadata": {},
   "outputs": [],
   "source": [
    "from tkinter import *\n",
    "import sys\n",
    "import requests\n",
    "import html5lib\n",
    "import bs4"
   ]
  },
  {
   "cell_type": "code",
   "execution_count": null,
   "id": "d626d47f",
   "metadata": {},
   "outputs": [],
   "source": [
    "root = Tk()\n",
    "root.title(\"Web-Scrapping-Tool\")\n",
    "root.geometry('645x400')\n",
    "root.config(background='black')\n",
    "def scrapping():\n",
    "    url = requests.get(URL.get())\n",
    "    res = bs4.BeautifulSoup(url.text,\"html.parser\")\n",
    "    \n",
    "    savefile1 = open(\"Web_Text.txt\",'a')\n",
    "    for i in res.select('p'):\n",
    "        savefile1.write(i.getText())\n",
    "    savefile1.close()\n",
    "    \n",
    "    savefile2 = open(\"Web_CODE.txt\",'a')\n",
    "    for i in res.select('p'):\n",
    "        savefile2.write(res.prettify())\n",
    "    savefile2.close()\n",
    "    \n",
    "var = StringVar()\n",
    "var.set(\"WEBSITE SCRAPPER TOOL\")\n",
    "\n",
    "Label_of_Web = Label(root, textvariable=var,bd=8,bg='black',fg='#0096DC',font=(\"Helvetica\",35)).grid(row=0,column=0)\n",
    "URL= StringVar()\n",
    "E1 = Entry(root,bd=5,font=7,textvariable=URL).grid(row=2,column=0,ipadx=100)\n",
    "button = Button(root,text='Scrap it!!!',bd=5,command = scrapping).grid(row=4,column=0,padx=8,pady=4)\n",
    "root.mainloop()"
   ]
  },
  {
   "cell_type": "code",
   "execution_count": null,
   "id": "98611474",
   "metadata": {},
   "outputs": [],
   "source": []
  }
 ],
 "metadata": {
  "kernelspec": {
   "display_name": "Python 3 (ipykernel)",
   "language": "python",
   "name": "python3"
  },
  "language_info": {
   "codemirror_mode": {
    "name": "ipython",
    "version": 3
   },
   "file_extension": ".py",
   "mimetype": "text/x-python",
   "name": "python",
   "nbconvert_exporter": "python",
   "pygments_lexer": "ipython3",
   "version": "3.9.13"
  }
 },
 "nbformat": 4,
 "nbformat_minor": 5
}
